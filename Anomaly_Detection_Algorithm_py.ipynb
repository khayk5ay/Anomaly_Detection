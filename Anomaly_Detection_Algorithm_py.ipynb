{
  "nbformat": 4,
  "nbformat_minor": 0,
  "metadata": {
    "colab": {
      "provenance": [],
      "authorship_tag": "ABX9TyMgEiFcT4zSVEhckmtlVPgQ",
      "include_colab_link": true
    },
    "kernelspec": {
      "name": "python3",
      "display_name": "Python 3"
    },
    "language_info": {
      "name": "python"
    }
  },
  "cells": [
    {
      "cell_type": "markdown",
      "metadata": {
        "id": "view-in-github",
        "colab_type": "text"
      },
      "source": [
        "<a href=\"https://colab.research.google.com/github/khayk5ay/Anomaly_Detection/blob/main/Anomaly_Detection_Algorithm_py.ipynb\" target=\"_parent\"><img src=\"https://colab.research.google.com/assets/colab-badge.svg\" alt=\"Open In Colab\"/></a>"
      ]
    },
    {
      "cell_type": "markdown",
      "source": [
        "The essence of an anomaly detection algorithm is to detect strange occurences whose probability of occurence is quite unlikely."
      ],
      "metadata": {
        "id": "KW9KFMrw2RiJ"
      }
    },
    {
      "cell_type": "code",
      "execution_count": 1,
      "metadata": {
        "id": "gaiRu9VQ2Ird"
      },
      "outputs": [],
      "source": [
        "# Import necessary libraries\n",
        "import numpy as np\n",
        "import matplotlib.pyplot as plt\n",
        "import random"
      ]
    },
    {
      "cell_type": "code",
      "source": [
        "# Generate random dataset for the algorithm analysis\n",
        "def generate_dataset():\n",
        "  X_train_list = []\n",
        "  X_val_list = []\n",
        "  y_val_list = []\n",
        "\n",
        "  # Generate the training set containing values considered to be normal\n",
        "  for i in range(50):\n",
        "    X_train_list.append([random.uniform(25,30), random.uniform(3,5)])\n",
        "\n",
        "  X_train = np.array(X_train_list)\n",
        "\n",
        "  # Generate the validation set of some normal and other anomolous values\n",
        "  for i in range(20):\n",
        "    X_val_list.append([random.uniform(25,30), random.uniform(3,5)])\n",
        "    y_val_list.append(0)\n",
        "  for i in range(5):\n",
        "    X_val_list.append([random.uniform(19,25), random.uniform(2,7)])\n",
        "    y_val_list.append(1)\n",
        "  for i in range(5):\n",
        "    X_val_list.append([random.uniform(30,35), random.uniform(2,7)])\n",
        "    y_val_list.append(1)\n",
        "\n",
        "  X_val = np.array(X_val_list)\n",
        "  y_val = np.array(y_val_list)\n",
        "\n",
        "  return X_train, X_val, y_val"
      ],
      "metadata": {
        "id": "sfdbOlCBcJ-G"
      },
      "execution_count": 2,
      "outputs": []
    },
    {
      "cell_type": "code",
      "source": [
        "# Initialise Training dataset for training\n",
        "X_train, X_val, y_val = generate_dataset()\n",
        "\n",
        "X_train"
      ],
      "metadata": {
        "id": "ox-hWlsY6yhd",
        "colab": {
          "base_uri": "https://localhost:8080/"
        },
        "outputId": "b984191c-1209-43d3-9a23-276faca5a6b2"
      },
      "execution_count": 3,
      "outputs": [
        {
          "output_type": "execute_result",
          "data": {
            "text/plain": [
              "array([[29.30702198,  3.65207627],\n",
              "       [29.4592934 ,  3.93546117],\n",
              "       [27.62790857,  3.1101517 ],\n",
              "       [27.80026317,  4.64576669],\n",
              "       [28.77938589,  3.91152505],\n",
              "       [26.30773577,  3.49702541],\n",
              "       [27.69762116,  3.89265586],\n",
              "       [25.58643211,  4.86303865],\n",
              "       [26.0849317 ,  4.15861484],\n",
              "       [26.16809616,  4.29242685],\n",
              "       [28.51371509,  4.09338999],\n",
              "       [29.47139817,  4.51905008],\n",
              "       [29.63466331,  3.85910402],\n",
              "       [26.34519007,  4.32877514],\n",
              "       [25.54420302,  3.9098752 ],\n",
              "       [27.06589108,  3.4809323 ],\n",
              "       [27.8569429 ,  3.18347473],\n",
              "       [27.90387804,  3.93078098],\n",
              "       [29.35799056,  3.59583792],\n",
              "       [29.10981984,  4.75730081],\n",
              "       [28.66558471,  4.53303013],\n",
              "       [28.28148226,  3.54266563],\n",
              "       [26.91633987,  3.91432583],\n",
              "       [25.96096158,  4.44990431],\n",
              "       [29.11621088,  3.63927992],\n",
              "       [27.81203304,  4.57560366],\n",
              "       [26.1855677 ,  4.83571144],\n",
              "       [29.94007398,  4.84638874],\n",
              "       [26.98136305,  3.45832759],\n",
              "       [25.83530388,  3.16690739],\n",
              "       [26.447293  ,  4.80671368],\n",
              "       [25.37083809,  4.40711849],\n",
              "       [27.32683027,  3.36578276],\n",
              "       [28.61731463,  4.49250371],\n",
              "       [28.82127236,  3.65883408],\n",
              "       [26.81295734,  4.30157269],\n",
              "       [29.04054748,  4.71675616],\n",
              "       [26.42168454,  3.24178565],\n",
              "       [27.09877544,  3.34865683],\n",
              "       [25.38061223,  4.45984716],\n",
              "       [28.7799734 ,  4.45764089],\n",
              "       [29.87668824,  3.13840053],\n",
              "       [28.47102104,  3.42958888],\n",
              "       [28.53081266,  3.63832077],\n",
              "       [25.38981217,  4.19847302],\n",
              "       [28.07725403,  3.64086232],\n",
              "       [29.14656271,  3.69577985],\n",
              "       [28.04304967,  4.47557336],\n",
              "       [27.61250208,  4.985558  ],\n",
              "       [29.92608448,  4.84568885]])"
            ]
          },
          "metadata": {},
          "execution_count": 3
        }
      ]
    },
    {
      "cell_type": "code",
      "source": [
        "# Visualise the data\n",
        "plt.scatter(X_train[:,0], X_train[:, 1], marker='o')\n",
        "plt.scatter(X_val[:,0], X_val[:, 1], color='r', marker='x')\n",
        "plt.ylim(0,8)\n",
        "plt.xlim(10,40)"
      ],
      "metadata": {
        "id": "i2D9PRvnUPBZ",
        "colab": {
          "base_uri": "https://localhost:8080/",
          "height": 286
        },
        "outputId": "f3f3f5c8-eb37-4ea5-dd8e-5857fed314f5"
      },
      "execution_count": 4,
      "outputs": [
        {
          "output_type": "execute_result",
          "data": {
            "text/plain": [
              "(10.0, 40.0)"
            ]
          },
          "metadata": {},
          "execution_count": 4
        },
        {
          "output_type": "display_data",
          "data": {
            "text/plain": [
              "<Figure size 432x288 with 1 Axes>"
            ],
            "image/png": "[encoded data removed]"
          },
          "metadata": {
            "needs_background": "light"
          }
        }
      ]
    },
    {
      "cell_type": "code",
      "source": [
        "y_val"
      ],
      "metadata": {
        "colab": {
          "base_uri": "https://localhost:8080/"
        },
        "id": "tFT1DLhPBj-Z",
        "outputId": "ba15bdab-cf00-4b2f-f5ff-3aaa92560161"
      },
      "execution_count": 5,
      "outputs": [
        {
          "output_type": "execute_result",
          "data": {
            "text/plain": [
              "array([0, 0, 0, 0, 0, 0, 0, 0, 0, 0, 0, 0, 0, 0, 0, 0, 0, 0, 0, 0, 1, 1,\n",
              "       1, 1, 1, 1, 1, 1, 1, 1])"
            ]
          },
          "metadata": {},
          "execution_count": 5
        }
      ]
    },
    {
      "cell_type": "code",
      "source": [
        "# Look at the distribution of each of the features in X_train\n",
        "\n",
        "fig, ax = plt.subplots(2,1, figsize=(10,10))\n",
        " \n",
        "ax[0].hist(X_train[:,0], bins=5) \n",
        "ax[1].hist(X_train[:,1], bins=3)\n",
        "plt.show()"
      ],
      "metadata": {
        "colab": {
          "base_uri": "https://localhost:8080/",
          "height": 592
        },
        "id": "lpvzFUC_BN8j",
        "outputId": "be4ad3a8-3946-4152-e1ee-7465ff979df8"
      },
      "execution_count": 6,
      "outputs": [
        {
          "output_type": "display_data",
          "data": {
            "text/plain": [
              "<Figure size 720x720 with 2 Axes>"
            ],
            "image/png": "[encoded data removed]"
          },
          "metadata": {
            "needs_background": "light"
          }
        }
      ]
    },
    {
      "cell_type": "markdown",
      "source": [
        "Even though the data does not necessarily have a normal / gaussian distribution, the algorithm still does well to detect any anomalies"
      ],
      "metadata": {
        "id": "Y7W0RMk5xzZH"
      }
    },
    {
      "cell_type": "code",
      "source": [
        "# Get the values if Mean and Variance for the data set\n",
        "def get_gaussian_distribution(X):\n",
        "  \"\"\"\n",
        "  gets the gaussian distribution of the data\n",
        "\n",
        "  parameters:\n",
        "  X (numpy ndarray) : m * n dimensioned unlabeled data\n",
        "\n",
        "  returns:\n",
        "  mu () : 1 * n array showing the mean of the data\n",
        "  var () : 1 * n array showing the variance of the data\n",
        "  \n",
        "  \"\"\"\n",
        "  m, n = X.shape\n",
        "  # Compute the mean of each featrue in the data set\n",
        "  mu = sum(X) / m\n",
        "  # Compute the variance of each feature in the data set\n",
        "  var = sum((X-mu)**2) / m\n",
        "  \n",
        "  return mu, var"
      ],
      "metadata": {
        "id": "WF179sSd3CIJ"
      },
      "execution_count": 7,
      "outputs": []
    },
    {
      "cell_type": "code",
      "source": [
        "mu, var = get_gaussian_distribution(X_train)"
      ],
      "metadata": {
        "id": "1Tzt65GV-2Zo"
      },
      "execution_count": 8,
      "outputs": []
    },
    {
      "cell_type": "code",
      "source": [
        "print(f\"The mean is {mu}\")\n",
        "print(f\"The variance is {var}\")"
      ],
      "metadata": {
        "colab": {
          "base_uri": "https://localhost:8080/"
        },
        "id": "F_r_S8QRSk6t",
        "outputId": "eedae640-3cce-4279-d1dd-174906e8aaa3"
      },
      "execution_count": 9,
      "outputs": [
        {
          "output_type": "stream",
          "name": "stdout",
          "text": [
            "The mean is [27.73018378  4.03769732]\n",
            "The variance is [1.89337617 0.30048242]\n"
          ]
        }
      ]
    },
    {
      "cell_type": "markdown",
      "source": [
        "$$ p(x ; \\mu,\\sigma ^2) = \\frac{1}{\\sqrt{2 \\pi \\sigma ^2}}\\exp^{ - \\frac{(x - \\mu)^2}{2 \\sigma ^2} }$$"
      ],
      "metadata": {
        "id": "pnGUMEG6GIor"
      }
    },
    {
      "cell_type": "code",
      "source": [
        "# Get probabilities of features when provided with the array of all observations when provided witht he values of the gaussian distribution \n",
        "\n",
        "def get_probabilities(X, mu, var):\n",
        "  # Initialise the array to hold the probabilities\n",
        "  p_x_j = np.zeros(len(X))\n",
        "  \n",
        "  # Get probabiliities for each observation\n",
        "  for j in range(len(X)):\n",
        "    # Initialise the array that will hold the probabilities for each feature associated with the overall observation\n",
        "    p_x_i = np.zeros(X[j].shape[0])\n",
        "    for i in range(X[j].shape[0]):\n",
        "      # Compute the probability of each individual feature\n",
        "      denom = np.sqrt(2 * np.pi * var[i])\n",
        "      exp_val = -((X[j][i]-mu[i]) ** 2 )/ (2 * var[i])\n",
        "      p_x_i[i] = (1 / denom) * np.exp(exp_val)\n",
        "\n",
        "    # Compute the overall probability of that observation as the product of all the feature probabilities\n",
        "    p_x_j[j] = np.prod(p_x_i)\n",
        "\n",
        "  return p_x_j"
      ],
      "metadata": {
        "id": "c9MEes5KGHSn"
      },
      "execution_count": 10,
      "outputs": []
    },
    {
      "cell_type": "code",
      "source": [
        "get_probabilities(X_train, mu, var)\n",
        "#len(X_train[0].shape)"
      ],
      "metadata": {
        "colab": {
          "base_uri": "https://localhost:8080/"
        },
        "id": "tius3XE_ILts",
        "outputId": "6ddd6fbf-f60d-4dff-a7f8-4d6e205db024"
      },
      "execution_count": 11,
      "outputs": [
        {
          "output_type": "execute_result",
          "data": {
            "text/plain": [
              "array([0.08544127, 0.09415485, 0.05027554, 0.11390054, 0.1536514 ,\n",
              "       0.07602992, 0.20368914, 0.0201816 , 0.10075875, 0.09943719,\n",
              "       0.17850129, 0.06443728, 0.07678294, 0.11042529, 0.05813634,\n",
              "       0.11211561, 0.06239152, 0.20538618, 0.07573648, 0.05392377,\n",
              "       0.11133577, 0.12952158, 0.17271509, 0.06958433, 0.09755642,\n",
              "       0.13014469, 0.0389453 , 0.0195701 , 0.10408964, 0.02314839,\n",
              "       0.05106996, 0.03865963, 0.09536159, 0.12149289, 0.12134733,\n",
              "       0.15048238, 0.06224901, 0.04678842, 0.08619174, 0.03650678,\n",
              "       0.11761321, 0.01627152, 0.09865281, 0.13661887, 0.04758038,\n",
              "       0.15728008, 0.10226543, 0.14945347, 0.04714498, 0.01992872])"
            ]
          },
          "metadata": {},
          "execution_count": 11
        }
      ]
    },
    {
      "cell_type": "code",
      "source": [
        "# Determine the threshold probability below which an observation will be considered abnormal\n",
        "# The threshold will be considered using the F1 score\n",
        "def select_threshold(y_val, p_val):\n",
        "\n",
        "  best_F1 = 0\n",
        "  best_epsilon = 0\n",
        "  step_value = (p_val.max() - p_val.min()) / 1000\n",
        "  # Consider a wide range of theshold values\n",
        "  for epsilon in np.arange(p_val.min(), p_val.max(), step_value):\n",
        "    \n",
        "    predictions = p_val < epsilon\n",
        "    # Compute the True Positive (tp), False Positive(fp), False Negative(fn)\n",
        "    tp = sum(predictions[y_val == 1])\n",
        "    fp = sum(predictions[y_val == 0])\n",
        "    fn = sum(y_val[predictions == 0])\n",
        "\n",
        "    precision_score = tp / (tp + fp)\n",
        "    recall_score = tp / (tp + fn)\n",
        "    \n",
        "    #Compute the f1 score for each value of epsilon\n",
        "    F1 = (2 * precision_score * recall_score) / (precision_score + recall_score)\n",
        "\n",
        "    if F1 > best_F1:\n",
        "      best_F1 = F1\n",
        "      best_epsilon = epsilon\n",
        "\n",
        "  return best_F1, best_epsilon    \n"
      ],
      "metadata": {
        "id": "NL1pH0cPL3zL"
      },
      "execution_count": 12,
      "outputs": []
    },
    {
      "cell_type": "code",
      "source": [
        "get_probabilities(X_val, mu, var)"
      ],
      "metadata": {
        "colab": {
          "base_uri": "https://localhost:8080/"
        },
        "id": "ASZbzvpewOiA",
        "outputId": "dd40e95a-a496-4c47-eb55-107eecacef48"
      },
      "execution_count": 13,
      "outputs": [
        {
          "output_type": "execute_result",
          "data": {
            "text/plain": [
              "array([2.00728209e-01, 7.35716400e-02, 4.71047664e-02, 1.62558245e-01,\n",
              "       1.30511662e-01, 1.22033570e-01, 1.53820017e-01, 1.66848918e-01,\n",
              "       1.01261600e-01, 6.65578407e-02, 7.39161985e-02, 1.01036638e-01,\n",
              "       7.48668384e-02, 1.50427378e-02, 1.10498760e-01, 8.93190827e-02,\n",
              "       1.65464253e-01, 2.76289534e-02, 6.26392182e-02, 1.98087717e-01,\n",
              "       5.10458213e-03, 7.06904513e-11, 7.31821802e-08, 4.22003819e-09,\n",
              "       5.27966400e-07, 1.15964569e-05, 8.73288472e-06, 5.91103191e-04,\n",
              "       1.04033559e-03, 2.66268859e-06])"
            ]
          },
          "metadata": {},
          "execution_count": 13
        }
      ]
    },
    {
      "cell_type": "code",
      "source": [
        "F1_score, epsilon = select_threshold(y_val, get_probabilities(X_val, mu, var))\n",
        "print(\"F1 Score \", F1_score)\n",
        "print(\"Best Epsilon \", epsilon)"
      ],
      "metadata": {
        "colab": {
          "base_uri": "https://localhost:8080/"
        },
        "id": "L3fC3io1joL5",
        "outputId": "70d71510-2dde-48f1-dd3a-759cef5728ab"
      },
      "execution_count": 14,
      "outputs": [
        {
          "output_type": "stream",
          "name": "stdout",
          "text": [
            "F1 Score  1.0\n",
            "Best Epsilon  0.005218933513605946\n"
          ]
        },
        {
          "output_type": "stream",
          "name": "stderr",
          "text": [
            "/usr/local/lib/python3.7/dist-packages/ipykernel_launcher.py:17: RuntimeWarning: invalid value encountered in long_scalars\n"
          ]
        }
      ]
    },
    {
      "cell_type": "code",
      "source": [
        "# Predict anomalous occurences based on already trained parameters\n",
        "def predict(X_test, epsilon, mu, var):\n",
        "\n",
        "  y_prob = get_probabilities(X_test, mu, var)\n",
        "\n",
        "  y_pred = (y_prob < epsilon) + 0\n",
        "\n",
        "  return y_pred"
      ],
      "metadata": {
        "id": "QXLWrvfXuy0c"
      },
      "execution_count": 15,
      "outputs": []
    },
    {
      "cell_type": "code",
      "source": [
        "y_pred = predict(X_val, epsilon, mu, var)"
      ],
      "metadata": {
        "id": "KVsjnlLc9WYD"
      },
      "execution_count": 16,
      "outputs": []
    },
    {
      "cell_type": "code",
      "source": [
        "fig, ax = plt.subplots(1,2, figsize = (10,5))\n",
        "\n",
        "ax[0].scatter(X_val[:,0], X_val[:,1], c=y_val)\n",
        "ax[1].scatter(X_val[:,0], X_val[:,1], c=y_pred)\n",
        "ax[1].set_label(y_pred)"
      ],
      "metadata": {
        "colab": {
          "base_uri": "https://localhost:8080/",
          "height": 320
        },
        "id": "KJHJnsyU9n-2",
        "outputId": "6d83d611-b861-49c7-984f-20b265ae23d1"
      },
      "execution_count": 17,
      "outputs": [
        {
          "output_type": "display_data",
          "data": {
            "text/plain": [
              "<Figure size 720x360 with 2 Axes>"
            ],
            "image/png": "[encoded data removed]"
          },
          "metadata": {
            "needs_background": "light"
          }
        }
      ]
    },
    {
      "cell_type": "code",
      "source": [],
      "metadata": {
        "id": "66DCvaxh-sdn"
      },
      "execution_count": 17,
      "outputs": []
    }
  ]
}