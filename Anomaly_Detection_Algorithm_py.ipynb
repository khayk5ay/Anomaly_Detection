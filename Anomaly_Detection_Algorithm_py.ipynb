{
  "nbformat": 4,
  "nbformat_minor": 0,
  "metadata": {
    "colab": {
      "provenance": [],
      "authorship_tag": "ABX9TyNnZBXGieWbIJ1fDRtuOdKb",
      "include_colab_link": true
    },
    "kernelspec": {
      "name": "python3",
      "display_name": "Python 3"
    },
    "language_info": {
      "name": "python"
    }
  },
  "cells": [
    {
      "cell_type": "markdown",
      "metadata": {
        "id": "view-in-github",
        "colab_type": "text"
      },
      "source": [
        "<a href=\"https://colab.research.google.com/github/khayk5ay/Anomaly_Detection/blob/main/Anomaly_Detection_Algorithm_py.ipynb\" target=\"_parent\"><img src=\"https://colab.research.google.com/assets/colab-badge.svg\" alt=\"Open In Colab\"/></a>"
      ]
    },
    {
      "cell_type": "markdown",
      "source": [
        "The essence of an anomaly detection algorithm is to detect strange occurences whose probability of occurence is quite unlikely."
      ],
      "metadata": {
        "id": "KW9KFMrw2RiJ"
      }
    },
    {
      "cell_type": "code",
      "execution_count": 115,
      "metadata": {
        "id": "gaiRu9VQ2Ird"
      },
      "outputs": [],
      "source": [
        "# Import necessary libraries\n",
        "import numpy as np\n",
        "import matplotlib.pyplot as plt\n",
        "import random"
      ]
    },
    {
      "cell_type": "code",
      "source": [
        "# Generate random dataset for the algorithm analysis\n",
        "def generate_dataset():\n",
        "  X_train_list = []\n",
        "  X_val_list = []\n",
        "  y_val_list = []\n",
        "\n",
        "  # Generate the training set containing values considered to be normal\n",
        "  for i in range(50):\n",
        "    X_train_list.append([random.uniform(25,30), random.uniform(3,5)])\n",
        "\n",
        "  X_train = np.array(X_train_list)\n",
        "\n",
        "  # Generate the validation set of some normal and other anomolous values\n",
        "  for i in range(20):\n",
        "    X_val_list.append([random.uniform(25,30), random.uniform(3,5)])\n",
        "    y_val_list.append(0)\n",
        "  for i in range(5):\n",
        "    X_val_list.append([random.uniform(19,27), random.uniform(2,7)])\n",
        "    y_val_list.append(1)\n",
        "  for i in range(5):\n",
        "    X_val_list.append([random.uniform(28,35), random.uniform(2,7)])\n",
        "    y_val_list.append(1)\n",
        "\n",
        "  X_val = np.array(X_val_list)\n",
        "  y_val = np.array(y_val_list)\n",
        "\n",
        "  return X_train, X_val, y_val"
      ],
      "metadata": {
        "id": "sfdbOlCBcJ-G"
      },
      "execution_count": 116,
      "outputs": []
    },
    {
      "cell_type": "code",
      "source": [
        "# Initialise Training dataset for training\n",
        "X_train, X_val, y_val = generate_dataset()\n",
        "\n",
        "X_train"
      ],
      "metadata": {
        "id": "ox-hWlsY6yhd",
        "colab": {
          "base_uri": "https://localhost:8080/"
        },
        "outputId": "5480b467-e870-426d-8063-98a61c4ad9ff"
      },
      "execution_count": 117,
      "outputs": [
        {
          "output_type": "execute_result",
          "data": {
            "text/plain": [
              "array([[29.98137732,  3.57908524],\n",
              "       [29.0119095 ,  4.72497358],\n",
              "       [28.78935905,  3.00348872],\n",
              "       [29.01600749,  3.11808059],\n",
              "       [29.9658352 ,  3.44217671],\n",
              "       [26.92706952,  3.13340566],\n",
              "       [25.81175133,  4.02503923],\n",
              "       [29.83823981,  3.46328434],\n",
              "       [29.30444216,  4.7226113 ],\n",
              "       [26.49304489,  4.36960393],\n",
              "       [27.32419529,  4.64478111],\n",
              "       [25.3518946 ,  4.04114909],\n",
              "       [27.63841214,  3.91773056],\n",
              "       [25.59512137,  4.40751598],\n",
              "       [29.51814625,  3.50247419],\n",
              "       [26.44399066,  4.25044765],\n",
              "       [28.50467538,  4.10949471],\n",
              "       [29.33770372,  3.39190715],\n",
              "       [29.34932176,  3.37398049],\n",
              "       [28.94394898,  4.66192521],\n",
              "       [29.81021384,  3.19868643],\n",
              "       [26.36767616,  4.41569433],\n",
              "       [25.53090881,  4.36848688],\n",
              "       [29.85278768,  3.1659579 ],\n",
              "       [25.97520333,  3.616412  ],\n",
              "       [26.70171174,  4.50163068],\n",
              "       [28.07294293,  4.44573253],\n",
              "       [26.58369998,  4.27053393],\n",
              "       [25.04636918,  4.59995257],\n",
              "       [25.32703118,  3.16478197],\n",
              "       [28.65208505,  3.91575012],\n",
              "       [26.41433585,  4.99878414],\n",
              "       [27.57014102,  4.48003105],\n",
              "       [26.67064327,  4.57512236],\n",
              "       [28.59949162,  4.98078311],\n",
              "       [25.29617161,  4.76618556],\n",
              "       [26.96871069,  3.67383259],\n",
              "       [28.62112413,  4.40828825],\n",
              "       [26.80033109,  4.11826473],\n",
              "       [28.74140446,  4.08293701],\n",
              "       [25.37821156,  4.7058341 ],\n",
              "       [27.58114128,  4.93761527],\n",
              "       [27.43936806,  4.59218918],\n",
              "       [26.89658179,  4.24516905],\n",
              "       [28.64604923,  3.7073525 ],\n",
              "       [26.51374259,  4.52337101],\n",
              "       [27.00634013,  3.54420777],\n",
              "       [25.41165299,  4.18972495],\n",
              "       [29.75571514,  3.99582785],\n",
              "       [28.01665736,  3.21289579]])"
            ]
          },
          "metadata": {},
          "execution_count": 117
        }
      ]
    },
    {
      "cell_type": "code",
      "source": [
        "# Visualise the data\n",
        "plt.scatter(X_train[:,0], X_train[:, 1], marker='o')\n",
        "plt.scatter(X_val[:,0], X_val[:, 1], color='r', marker='x')\n",
        "plt.ylim(0,8)\n",
        "plt.xlim(10,40)"
      ],
      "metadata": {
        "id": "i2D9PRvnUPBZ",
        "colab": {
          "base_uri": "https://localhost:8080/",
          "height": 286
        },
        "outputId": "e6d55ab0-e1b8-4898-d552-22bb44c1ad25"
      },
      "execution_count": 118,
      "outputs": [
        {
          "output_type": "execute_result",
          "data": {
            "text/plain": [
              "(10.0, 40.0)"
            ]
          },
          "metadata": {},
          "execution_count": 118
        },
        {
          "output_type": "display_data",
          "data": {
            "text/plain": [
              "<Figure size 432x288 with 1 Axes>"
            ],
            "image/png": "[encoded data removed]"
          },
          "metadata": {
            "needs_background": "light"
          }
        }
      ]
    },
    {
      "cell_type": "code",
      "source": [
        "y_val"
      ],
      "metadata": {
        "colab": {
          "base_uri": "https://localhost:8080/"
        },
        "id": "tFT1DLhPBj-Z",
        "outputId": "75c9748b-c611-4dc4-9b39-af0af022e2a8"
      },
      "execution_count": 131,
      "outputs": [
        {
          "output_type": "execute_result",
          "data": {
            "text/plain": [
              "array([0, 0, 0, 0, 0, 0, 0, 0, 0, 0, 0, 0, 0, 0, 0, 0, 0, 0, 0, 0, 1, 1,\n",
              "       1, 1, 1, 1, 1, 1, 1, 1])"
            ]
          },
          "metadata": {},
          "execution_count": 131
        }
      ]
    },
    {
      "cell_type": "code",
      "source": [
        "# Look at the distribution of each of the features in X_train\n",
        "\n",
        "fig, ax = plt.subplots(2,1, figsize=(10,10))\n",
        " \n",
        "ax[0].hist(X_train[:,0], bins=5) \n",
        "ax[1].hist(X_train[:,1], bins=3)\n",
        "plt.show()"
      ],
      "metadata": {
        "colab": {
          "base_uri": "https://localhost:8080/",
          "height": 592
        },
        "id": "lpvzFUC_BN8j",
        "outputId": "c3f35b0f-ad08-45f7-9eac-3f959183f4e9"
      },
      "execution_count": 119,
      "outputs": [
        {
          "output_type": "display_data",
          "data": {
            "text/plain": [
              "<Figure size 720x720 with 2 Axes>"
            ],
            "image/png": "[encoded data removed]"
          },
          "metadata": {
            "needs_background": "light"
          }
        }
      ]
    },
    {
      "cell_type": "markdown",
      "source": [
        "Even though the data does not necessarily have a normal / gaussian distribution, the algorithm still does well to detect any anomalies"
      ],
      "metadata": {
        "id": "Y7W0RMk5xzZH"
      }
    },
    {
      "cell_type": "code",
      "source": [
        "# Get the values if Mean and Variance for the data set\n",
        "def get_gaussian_distribution(X):\n",
        "  \"\"\"\n",
        "  gets the gaussian distribution of the data\n",
        "\n",
        "  parameters:\n",
        "  X (numpy ndarray) : m * n dimensioned unlabeled data\n",
        "\n",
        "  returns:\n",
        "  mu () : 1 * n array showing the mean of the data\n",
        "  var () : 1 * n array showing the variance of the data\n",
        "  \n",
        "  \"\"\"\n",
        "  m, n = X.shape\n",
        "  # Compute the mean of each featrue in the data set\n",
        "  mu = sum(X) / m\n",
        "  # Compute the variance of each feature in the data set\n",
        "  var = sum((X-mu)**2) / m\n",
        "  \n",
        "  return mu, var"
      ],
      "metadata": {
        "id": "WF179sSd3CIJ"
      },
      "execution_count": 120,
      "outputs": []
    },
    {
      "cell_type": "code",
      "source": [
        "mu, var = get_gaussian_distribution(X_train)"
      ],
      "metadata": {
        "id": "1Tzt65GV-2Zo"
      },
      "execution_count": 121,
      "outputs": []
    },
    {
      "cell_type": "code",
      "source": [
        "print(f\"The mean is {mu}\")\n",
        "print(f\"The variance is {var}\")"
      ],
      "metadata": {
        "colab": {
          "base_uri": "https://localhost:8080/"
        },
        "id": "F_r_S8QRSk6t",
        "outputId": "cf06ac5b-7420-411a-9b57-703fc67190fc"
      },
      "execution_count": 122,
      "outputs": [
        {
          "output_type": "stream",
          "name": "stdout",
          "text": [
            "The mean is [27.5878978   4.06570382]\n",
            "The variance is [2.30494907 0.32347855]\n"
          ]
        }
      ]
    },
    {
      "cell_type": "markdown",
      "source": [
        "$$ p(x ; \\mu,\\sigma ^2) = \\frac{1}{\\sqrt{2 \\pi \\sigma ^2}}\\exp^{ - \\frac{(x - \\mu)^2}{2 \\sigma ^2} }$$"
      ],
      "metadata": {
        "id": "pnGUMEG6GIor"
      }
    },
    {
      "cell_type": "code",
      "source": [
        "# Get probabilities of features when provided with the array of all observations when provided witht he values of the gaussian distribution \n",
        "\n",
        "def get_probabilities(X, mu, var):\n",
        "  # Initialise the array to hold the probabilities\n",
        "  p_x_j = np.zeros(len(X))\n",
        "  \n",
        "  # Get probabiliities for each observation\n",
        "  for j in range(len(X)):\n",
        "    # Initialise the array that will hold the probabilities for each feature associated with the overall observation\n",
        "    p_x_i = np.zeros(X[j].shape[0])\n",
        "    for i in range(X[j].shape[0]):\n",
        "      # Compute the probability of each individual feature\n",
        "      denom = np.sqrt(2 * np.pi * var[i])\n",
        "      exp_val = -((X[j][i]-mu[i]) ** 2 )/ (2 * var[i])\n",
        "      p_x_i[i] = (1 / denom) * np.exp(exp_val)\n",
        "\n",
        "    # Compute the overall probability of that observation as the product of all the feature probabilities\n",
        "    p_x_j[j] = np.prod(p_x_i)\n",
        "\n",
        "  return p_x_j"
      ],
      "metadata": {
        "id": "c9MEes5KGHSn"
      },
      "execution_count": 123,
      "outputs": []
    },
    {
      "cell_type": "code",
      "source": [
        "get_probabilities(X_train, mu, var)\n",
        "#len(X_train[0].shape)"
      ],
      "metadata": {
        "colab": {
          "base_uri": "https://localhost:8080/"
        },
        "id": "tius3XE_ILts",
        "outputId": "bc99a54a-1fe2-4d6f-a027-821f30e55fe5"
      },
      "execution_count": 124,
      "outputs": [
        {
          "output_type": "execute_result",
          "data": {
            "text/plain": [
              "array([0.03688989, 0.06064043, 0.02355918, 0.0295541 , 0.02963915,\n",
              "       0.0437478 , 0.09273752, 0.03506481, 0.0499227 , 0.12320859,\n",
              "       0.10812153, 0.06225061, 0.17808517, 0.06501553, 0.05030437,\n",
              "       0.1316378 , 0.15314345, 0.04702721, 0.04488213, 0.07140005,\n",
              "       0.01975501, 0.11042479, 0.06388614, 0.01733259, 0.07674337,\n",
              "       0.11588188, 0.140105  , 0.13880364, 0.02920352, 0.01734433,\n",
              "       0.13924536, 0.03559328, 0.14135104, 0.10282512, 0.04046169,\n",
              "       0.02763093, 0.13377119, 0.12195737, 0.16042716, 0.13804313,\n",
              "       0.03392338, 0.05691536, 0.11951329, 0.15809634, 0.11854366,\n",
              "       0.10381494, 0.1124973 , 0.06442629, 0.06600239, 0.0575483 ])"
            ]
          },
          "metadata": {},
          "execution_count": 124
        }
      ]
    },
    {
      "cell_type": "code",
      "source": [
        "# Determine the threshold probability below which an observation will be considered abnormal\n",
        "# The threshold will be considered using the F1 score\n",
        "def select_threshold(y_val, p_val):\n",
        "\n",
        "  best_F1 = 0\n",
        "  best_epsilon = 0\n",
        "  step_value = (p_val.max() - p_val.min()) / 1000\n",
        "  # Consider a wide range of theshold values\n",
        "  for epsilon in np.arange(p_val.min(), p_val.max(), step_value):\n",
        "    \n",
        "    predictions = p_val < epsilon\n",
        "    # Compute the True Positive (tp), False Positive(fp), False Negative(fn)\n",
        "    tp = sum(predictions[y_val == 1])\n",
        "    fp = sum(predictions[y_val == 0])\n",
        "    fn = sum(y_val[predictions == 0])\n",
        "\n",
        "    precision_score = tp / (tp + fp)\n",
        "    recall_score = tp / (tp + fn)\n",
        "    \n",
        "    #Compute the f1 score for each value of epsilon\n",
        "    F1 = (2 * precision_score * recall_score) / (precision_score + recall_score)\n",
        "\n",
        "    if F1 > best_F1:\n",
        "      best_F1 = F1\n",
        "      best_epsilon = epsilon\n",
        "\n",
        "  return best_F1, best_epsilon    \n"
      ],
      "metadata": {
        "id": "NL1pH0cPL3zL"
      },
      "execution_count": 125,
      "outputs": []
    },
    {
      "cell_type": "code",
      "source": [
        "get_probabilities(X_val, mu, var)"
      ],
      "metadata": {
        "colab": {
          "base_uri": "https://localhost:8080/"
        },
        "id": "ASZbzvpewOiA",
        "outputId": "b310fd7b-d0bd-4258-d554-112a7bbf3850"
      },
      "execution_count": 126,
      "outputs": [
        {
          "output_type": "execute_result",
          "data": {
            "text/plain": [
              "array([1.18446722e-01, 4.48480646e-02, 1.44148227e-01, 1.21782537e-01,\n",
              "       1.03141503e-01, 8.68159445e-02, 9.18739884e-02, 1.55590664e-01,\n",
              "       2.65567014e-02, 6.02680238e-02, 1.02551455e-01, 1.53916503e-01,\n",
              "       1.48120636e-01, 8.82817271e-02, 1.42250047e-01, 1.07429233e-01,\n",
              "       7.92217549e-02, 5.71060034e-02, 6.78424058e-02, 1.43880857e-01,\n",
              "       1.62203848e-04, 2.07532168e-07, 3.57117147e-12, 2.84505343e-07,\n",
              "       1.04779216e-02, 2.37940047e-05, 1.99298591e-02, 1.28076254e-02,\n",
              "       1.82259921e-05, 9.24581518e-04])"
            ]
          },
          "metadata": {},
          "execution_count": 126
        }
      ]
    },
    {
      "cell_type": "code",
      "source": [
        "F1_score, epsilon = select_threshold(y_val, get_probabilities(X_val, mu, var))\n",
        "print(\"F1 Score \", F1_score)\n",
        "print(\"Best Epsilon \", epsilon)"
      ],
      "metadata": {
        "colab": {
          "base_uri": "https://localhost:8080/"
        },
        "id": "L3fC3io1joL5",
        "outputId": "d43182b9-6f40-4610-98f9-26908a1ea2dd"
      },
      "execution_count": 127,
      "outputs": [
        {
          "output_type": "stream",
          "name": "stdout",
          "text": [
            "F1 Score  1.0\n",
            "Best Epsilon  0.02007119569412124\n"
          ]
        },
        {
          "output_type": "stream",
          "name": "stderr",
          "text": [
            "/usr/local/lib/python3.7/dist-packages/ipykernel_launcher.py:17: RuntimeWarning: invalid value encountered in long_scalars\n"
          ]
        }
      ]
    },
    {
      "cell_type": "code",
      "source": [
        "# Predict anomalous occurences based on already trained parameters\n",
        "def predict(X_test, epsilon, mu, var):\n",
        "\n",
        "  y_prob = get_probabilities(X_test, mu, var)\n",
        "\n",
        "  y_pred = (y_prob < epsilon) + 0\n",
        "\n",
        "  return y_pred"
      ],
      "metadata": {
        "id": "QXLWrvfXuy0c"
      },
      "execution_count": 128,
      "outputs": []
    },
    {
      "cell_type": "code",
      "source": [
        "y_pred = predict(X_val, epsilon, mu, var)"
      ],
      "metadata": {
        "id": "KVsjnlLc9WYD"
      },
      "execution_count": 129,
      "outputs": []
    },
    {
      "cell_type": "code",
      "source": [
        "fig, ax = plt.subplots(1,2, figsize = (20,5))\n",
        "\n",
        "ax[0].scatter(X_val[:,0], X_val[:,1], c=y_val)\n",
        "ax[1].scatter(X_val[:,0], X_val[:,1], c=y_pred)\n",
        "ax[1].set_label(y_pred)"
      ],
      "metadata": {
        "colab": {
          "base_uri": "https://localhost:8080/",
          "height": 320
        },
        "id": "KJHJnsyU9n-2",
        "outputId": "3c579b6e-003c-40e0-8db6-733cafd1ff84"
      },
      "execution_count": 140,
      "outputs": [
        {
          "output_type": "display_data",
          "data": {
            "text/plain": [
              "<Figure size 1440x360 with 2 Axes>"
            ],
            "image/png": "[encoded data removed]"
          },
          "metadata": {
            "needs_background": "light"
          }
        }
      ]
    },
    {
      "cell_type": "code",
      "source": [],
      "metadata": {
        "id": "66DCvaxh-sdn"
      },
      "execution_count": 130,
      "outputs": []
    }
  ]
}